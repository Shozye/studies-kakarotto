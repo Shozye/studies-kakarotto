{
 "cells": [
  {
   "cell_type": "code",
   "execution_count": 1,
   "metadata": {},
   "outputs": [
    {
     "name": "stderr",
     "output_type": "stream",
     "text": [
      "2023-06-13 13:47:57.908361: I tensorflow/tsl/cuda/cudart_stub.cc:28] Could not find cuda drivers on your machine, GPU will not be used.\n",
      "2023-06-13 13:47:57.930793: I tensorflow/tsl/cuda/cudart_stub.cc:28] Could not find cuda drivers on your machine, GPU will not be used.\n",
      "2023-06-13 13:47:57.931187: I tensorflow/core/platform/cpu_feature_guard.cc:182] This TensorFlow binary is optimized to use available CPU instructions in performance-critical operations.\n",
      "To enable the following instructions: AVX2 FMA, in other operations, rebuild TensorFlow with the appropriate compiler flags.\n",
      "2023-06-13 13:47:58.450969: W tensorflow/compiler/tf2tensorrt/utils/py_utils.cc:38] TF-TRT Warning: Could not find TensorRT\n"
     ]
    },
    {
     "name": "stdout",
     "output_type": "stream",
     "text": [
      "TensorFlow version: 2.12.0\n"
     ]
    }
   ],
   "source": [
    "# Whole ipynb was done by using : https://blog.tensorflow.org/2021/05/introducing-tensorflow-decision-forests.html\n",
    "# and previous assignment\n",
    "\n",
    "# Load Tensroflow Decision Forests\n",
    "import tensorflow_decision_forests as tfdf\n",
    "import pandas as pd\n",
    "import tensorflow as tf\n",
    "from matplotlib import pyplot as plt\n",
    "mnist = tf.keras.datasets.mnist\n",
    "\n",
    "print(\"TensorFlow version:\", tf.__version__)"
   ]
  },
  {
   "cell_type": "code",
   "execution_count": 2,
   "metadata": {},
   "outputs": [],
   "source": [
    "# Here I am just taking test data of mnist database\n",
    "\n",
    "(X_train, Y_train), (X_test, Y_test) = mnist.load_data()\n",
    "num_pixels = X_train.shape[1] * X_train.shape[2]\n",
    "\n",
    "X_train = X_train.reshape(X_train.shape[0], num_pixels).astype('float32')\n",
    "X_test = X_test.reshape(X_test.shape[0], num_pixels).astype('float32')\n"
   ]
  },
  {
   "cell_type": "code",
   "execution_count": 3,
   "metadata": {},
   "outputs": [
    {
     "name": "stdout",
     "output_type": "stream",
     "text": [
      "Use /tmp/tmp1bcmw7pn as temporary training directory\n",
      "Reading training dataset...\n",
      "Training dataset read in 0:00:05.937088. Found 60000 examples.\n",
      "Training model...\n"
     ]
    },
    {
     "name": "stderr",
     "output_type": "stream",
     "text": [
      "[INFO 23-06-13 13:48:33.8657 CEST kernel.cc:1242] Loading model from path /tmp/tmp1bcmw7pn/model/ with prefix 59b72729aee2414b\n",
      "[INFO 23-06-13 13:48:36.9227 CEST decision_forest.cc:660] Model loaded with 300 root(s), 1399756 node(s), and 570 input feature(s).\n",
      "[INFO 23-06-13 13:48:36.9227 CEST abstract_model.cc:1311] Engine \"RandomForestGeneric\" built\n",
      "[INFO 23-06-13 13:48:36.9228 CEST kernel.cc:1074] Use fast generic engine\n"
     ]
    },
    {
     "name": "stdout",
     "output_type": "stream",
     "text": [
      "Model trained in 0:00:31.938432\n",
      "Compiling model...\n",
      "WARNING:tensorflow:AutoGraph could not transform <function simple_ml_inference_op_with_handle at 0x7f46ccffb250> and will run it as-is.\n",
      "Please report this to the TensorFlow team. When filing the bug, set the verbosity to 10 (on Linux, `export AUTOGRAPH_VERBOSITY=10`) and attach the full output.\n",
      "Cause: could not get source code\n",
      "To silence this warning, decorate the function with @tf.autograph.experimental.do_not_convert\n"
     ]
    },
    {
     "name": "stderr",
     "output_type": "stream",
     "text": [
      "WARNING:tensorflow:AutoGraph could not transform <function simple_ml_inference_op_with_handle at 0x7f46ccffb250> and will run it as-is.\n",
      "Please report this to the TensorFlow team. When filing the bug, set the verbosity to 10 (on Linux, `export AUTOGRAPH_VERBOSITY=10`) and attach the full output.\n",
      "Cause: could not get source code\n",
      "To silence this warning, decorate the function with @tf.autograph.experimental.do_not_convert\n"
     ]
    },
    {
     "name": "stdout",
     "output_type": "stream",
     "text": [
      "WARNING: AutoGraph could not transform <function simple_ml_inference_op_with_handle at 0x7f46ccffb250> and will run it as-is.\n",
      "Please report this to the TensorFlow team. When filing the bug, set the verbosity to 10 (on Linux, `export AUTOGRAPH_VERBOSITY=10`) and attach the full output.\n",
      "Cause: could not get source code\n",
      "To silence this warning, decorate the function with @tf.autograph.experimental.do_not_convert\n",
      "Model compiled.\n"
     ]
    },
    {
     "data": {
      "text/plain": [
       "<keras.callbacks.History at 0x7f46ca264610>"
      ]
     },
     "execution_count": 3,
     "metadata": {},
     "output_type": "execute_result"
    }
   ],
   "source": [
    "model = tfdf.keras.RandomForestModel()\n",
    "model.fit(X_train, Y_train)"
   ]
  },
  {
   "cell_type": "code",
   "execution_count": 4,
   "metadata": {},
   "outputs": [],
   "source": [
    "model.compile(metrics=[\"accuracy\"])"
   ]
  },
  {
   "cell_type": "code",
   "execution_count": 5,
   "metadata": {},
   "outputs": [
    {
     "name": "stdout",
     "output_type": "stream",
     "text": [
      "313/313 [==============================] - 3s 5ms/step - loss: 0.0000e+00 - accuracy: 0.9674\n"
     ]
    }
   ],
   "source": [
    "result = model.evaluate(X_test, Y_test)"
   ]
  },
  {
   "cell_type": "code",
   "execution_count": 6,
   "metadata": {},
   "outputs": [
    {
     "name": "stdout",
     "output_type": "stream",
     "text": [
      "[0.0, 0.9674000144004822]\n"
     ]
    }
   ],
   "source": [
    "print(result)"
   ]
  },
  {
   "cell_type": "code",
   "execution_count": 15,
   "metadata": {},
   "outputs": [
    {
     "data": {
      "text/plain": [
       "'\\n<script src=\"https://d3js.org/d3.v6.min.js\"></script>\\n<div id=\"tree_plot_1b89b23212e2451ab66f044e1e8f453d\"></div>\\n<script>\\n/*\\n * Copyright 2021 Google LLC.\\n * Licensed under the Apache License, Version 2.0 (the \"License\");\\n * you may not use this file except in compliance with the License.\\n * You may obtain a copy of the License at\\n *\\n *     https://www.apache.org/licenses/LICENSE-2.0\\n *\\n * Unless required by applicable law or agreed to in writing, software\\n * distributed under the License is distributed on an \"AS IS\" BASIS,\\n * WITHOUT WARRANTIES OR CONDITIONS OF ANY KIND, either express or implied.\\n * See the License for the specific language governing permissions and\\n * limitations under the License.\\n */\\n\\n/**\\n *  Plotting of decision trees generated by TF-DF.\\n *\\n *  A tree is a recursive structure of node objects.\\n *  A node contains one or more of the following components:\\n *\\n *    - A value: Representing the output of the node. If the node is not a leaf,\\n *      the value is only present for analysis i.e. it is not used for\\n *      predictions.\\n *\\n *    - A condition : For non-leaf nodes, the condition (also known as split)\\n *      defines a binary test to branch to the positive or negative child.\\n *\\n *    - An explanation: Generally a plot showing the relation between the label\\n *      and the condition to give insights about the effect of the condition.\\n *\\n *    - Two children : For non-leaf nodes, the children nodes. The first\\n *      children (i.e. \"node.children[0]\") is the negative children (drawn in\\n *      red). The second children is the positive one (drawn in green).\\n *\\n */\\n\\n/**\\n * Plots a single decision tree into a DOM element.\\n * @param {!options} options Dictionary of configurations.\\n * @param {!tree} raw_tree Recursive tree structure.\\n * @param {string} canvas_id Id of the output dom element.\\n */\\nfunction display_tree(options, raw_tree, canvas_id) {\\n  console.log(options);\\n\\n  // Determine the node placement.\\n  const tree_struct = d3.tree().nodeSize(\\n      [options.node_y_offset, options.node_x_offset])(d3.hierarchy(raw_tree));\\n\\n  // Boundaries of the node placement.\\n  let x_min = Infinity;\\n  let x_max = -x_min;\\n  let y_min = Infinity;\\n  let y_max = -x_min;\\n\\n  tree_struct.each(d => {\\n    if (d.x > x_max) x_max = d.x;\\n    if (d.x < x_min) x_min = d.x;\\n    if (d.y > y_max) y_max = d.y;\\n    if (d.y < y_min) y_min = d.y;\\n  });\\n\\n  // Size of the plot.\\n  const width = y_max - y_min + options.node_x_size + options.margin * 2;\\n  const height = x_max - x_min + options.node_y_size + options.margin * 2 +\\n      options.node_y_offset - options.node_y_size;\\n\\n  const plot = d3.select(canvas_id);\\n\\n  // Tool tip\\n  options.tooltip = plot.append(\\'div\\')\\n                        .attr(\\'width\\', 100)\\n                        .attr(\\'height\\', 100)\\n                        .style(\\'padding\\', \\'4px\\')\\n                        .style(\\'background\\', \\'#fff\\')\\n                        .style(\\'box-shadow\\', \\'4px 4px 0px rgba(0,0,0,0.1)\\')\\n                        .style(\\'border\\', \\'1px solid black\\')\\n                        .style(\\'font-family\\', \\'sans-serif\\')\\n                        .style(\\'font-size\\', options.font_size)\\n                        .style(\\'position\\', \\'absolute\\')\\n                        .style(\\'z-index\\', \\'10\\')\\n                        .attr(\\'pointer-events\\', \\'none\\')\\n                        .style(\\'display\\', \\'none\\');\\n\\n  // Create canvas\\n  const svg = plot.append(\\'svg\\').attr(\\'width\\', width).attr(\\'height\\', height);\\n  const graph =\\n      svg.style(\\'overflow\\', \\'visible\\')\\n          .append(\\'g\\')\\n          .attr(\\'font-family\\', \\'sans-serif\\')\\n          .attr(\\'font-size\\', options.font_size)\\n          .attr(\\n              \\'transform\\',\\n              () => `translate(${options.margin},${\\n                  - x_min + options.node_y_offset / 2 + options.margin})`);\\n\\n  // Plot bounding box.\\n  if (options.show_plot_bounding_box) {\\n    svg.append(\\'rect\\')\\n        .attr(\\'width\\', width)\\n        .attr(\\'height\\', height)\\n        .attr(\\'fill\\', \\'none\\')\\n        .attr(\\'stroke-width\\', 1.0)\\n        .attr(\\'stroke\\', \\'black\\');\\n  }\\n\\n  // Draw the edges.\\n  display_edges(options, graph, tree_struct);\\n\\n  // Draw the nodes.\\n  display_nodes(options, graph, tree_struct);\\n}\\n\\n/**\\n * Draw the nodes of the tree.\\n * @param {!options} options Dictionary of configurations.\\n * @param {!graph} graph D3 search handle containing the graph.\\n * @param {!tree_struct} tree_struct Structure of the tree (node placement,\\n *     data, etc.).\\n */\\nfunction display_nodes(options, graph, tree_struct) {\\n  const nodes = graph.append(\\'g\\')\\n                    .selectAll(\\'g\\')\\n                    .data(tree_struct.descendants())\\n                    .join(\\'g\\')\\n                    .attr(\\'transform\\', d => `translate(${d.y},${d.x})`);\\n\\n  nodes.append(\\'rect\\')\\n      .attr(\\'x\\', 0.5)\\n      .attr(\\'y\\', 0.5)\\n      .attr(\\'width\\', options.node_x_size)\\n      .attr(\\'height\\', options.node_y_size)\\n      .attr(\\'stroke\\', \\'lightgrey\\')\\n      .attr(\\'stroke-width\\', 1)\\n      .attr(\\'fill\\', \\'white\\')\\n      .attr(\\'y\\', -options.node_y_size / 2);\\n\\n  // Brackets on the right of condition nodes without children.\\n  non_leaf_node_without_children =\\n      nodes.filter(node => node.data.condition != null && node.children == null)\\n          .append(\\'g\\')\\n          .attr(\\'transform\\', `translate(${options.node_x_size},0)`);\\n\\n  non_leaf_node_without_children.append(\\'path\\')\\n      .attr(\\'d\\', \\'M0,0 C 10,0 0,10 10,10\\')\\n      .attr(\\'fill\\', \\'none\\')\\n      .attr(\\'stroke-width\\', 1.0)\\n      .attr(\\'stroke\\', \\'#F00\\');\\n\\n  non_leaf_node_without_children.append(\\'path\\')\\n      .attr(\\'d\\', \\'M0,0 C 10,0 0,-10 10,-10\\')\\n      .attr(\\'fill\\', \\'none\\')\\n      .attr(\\'stroke-width\\', 1.0)\\n      .attr(\\'stroke\\', \\'#0F0\\');\\n\\n  const node_content = nodes.append(\\'g\\').attr(\\n      \\'transform\\',\\n      `translate(0,${options.node_padding - options.node_y_size / 2})`);\\n\\n  node_content.append(node => create_node_element(options, node));\\n}\\n\\n/**\\n * Creates the D3 content for a single node.\\n * @param {!options} options Dictionary of configurations.\\n * @param {!node} node Node to draw.\\n * @return {!d3} D3 content.\\n */\\nfunction create_node_element(options, node) {\\n  // Output accumulator.\\n  let output = {\\n    // Content to draw.\\n    content: d3.create(\\'svg:g\\'),\\n    // Vertical offset to the next element to draw.\\n    vertical_offset: 0\\n  };\\n\\n  // Conditions.\\n  if (node.data.condition != null) {\\n    display_condition(options, node.data.condition, output);\\n  }\\n\\n  // Values.\\n  if (node.data.value != null) {\\n    display_value(options, node.data.value, output);\\n  }\\n\\n  // Explanations.\\n  if (node.data.explanation != null) {\\n    display_explanation(options, node.data.explanation, output);\\n  }\\n\\n  return output.content.node();\\n}\\n\\n\\n/**\\n * Adds a single line of text inside of a node.\\n * @param {!options} options Dictionary of configurations.\\n * @param {string} text Text to display.\\n * @param {!output} output Output display accumulator.\\n */\\nfunction display_node_text(options, text, output) {\\n  output.content.append(\\'text\\')\\n      .attr(\\'x\\', options.node_padding)\\n      .attr(\\'y\\', output.vertical_offset)\\n      .attr(\\'alignment-baseline\\', \\'hanging\\')\\n      .text(text);\\n  output.vertical_offset += 10;\\n}\\n\\n/**\\n * Adds a single line of text inside of a node with a tooltip.\\n * @param {!options} options Dictionary of configurations.\\n * @param {string} text Text to display.\\n * @param {string} tooltip Text in the Tooltip.\\n * @param {!output} output Output display accumulator.\\n */\\nfunction display_node_text_with_tooltip(options, text, tooltip, output) {\\n  const item = output.content.append(\\'text\\')\\n                   .attr(\\'x\\', options.node_padding)\\n                   .attr(\\'alignment-baseline\\', \\'hanging\\')\\n                   .text(text);\\n\\n  add_tooltip(options, item, () => tooltip);\\n  output.vertical_offset += 10;\\n}\\n\\n/**\\n * Adds a tooltip to a dom element.\\n * @param {!options} options Dictionary of configurations.\\n * @param {!dom} target Dom element to equip with a tooltip.\\n * @param {!func} get_content Generates the html content of the tooltip.\\n */\\nfunction add_tooltip(options, target, get_content) {\\n  function show(d) {\\n    options.tooltip.style(\\'display\\', \\'block\\');\\n    options.tooltip.html(get_content());\\n  }\\n\\n  function hide(d) {\\n    options.tooltip.style(\\'display\\', \\'none\\');\\n  }\\n\\n  function move(d) {\\n    options.tooltip.style(\\'display\\', \\'block\\');\\n    options.tooltip.style(\\'left\\', (d.pageX + 5) + \\'px\\');\\n    options.tooltip.style(\\'top\\', d.pageY + \\'px\\');\\n  }\\n\\n  target.on(\\'mouseover\\', show);\\n  target.on(\\'mouseout\\', hide);\\n  target.on(\\'mousemove\\', move);\\n}\\n\\n/**\\n * Adds a condition inside of a node.\\n * @param {!options} options Dictionary of configurations.\\n * @param {!condition} condition Condition to display.\\n * @param {!output} output Output display accumulator.\\n */\\nfunction display_condition(options, condition, output) {\\n  threshold_format = d3.format(\\'r\\');\\n\\n  if (condition.type === \\'IS_MISSING\\') {\\n    display_node_text(options, `${condition.attribute} is missing`, output);\\n    return;\\n  }\\n\\n  if (condition.type === \\'IS_TRUE\\') {\\n    display_node_text(options, `${condition.attribute} is true`, output);\\n    return;\\n  }\\n\\n  if (condition.type === \\'NUMERICAL_IS_HIGHER_THAN\\') {\\n    format = d3.format(\\'r\\');\\n    display_node_text(\\n        options,\\n        `${condition.attribute} >= ${threshold_format(condition.threshold)}`,\\n        output);\\n    return;\\n  }\\n\\n  if (condition.type === \\'CATEGORICAL_IS_IN\\') {\\n    display_node_text_with_tooltip(\\n        options, `${condition.attribute} in [...]`,\\n        `${condition.attribute} in [${condition.mask}]`, output);\\n    return;\\n  }\\n\\n  if (condition.type === \\'CATEGORICAL_SET_CONTAINS\\') {\\n    display_node_text_with_tooltip(\\n        options, `${condition.attribute} intersect [...]`,\\n        `${condition.attribute} intersect [${condition.mask}]`, output);\\n    return;\\n  }\\n\\n  if (condition.type === \\'NUMERICAL_SPARSE_OBLIQUE\\') {\\n    display_node_text_with_tooltip(\\n        options, `Sparse oblique split...`,\\n        `[${condition.attributes}]*[${condition.weights}]>=${\\n            threshold_format(condition.threshold)}`,\\n        output);\\n    return;\\n  }\\n\\n  display_node_text(\\n      options, `Non supported condition ${condition.type}`, output);\\n}\\n\\n/**\\n * Adds a value inside of a node.\\n * @param {!options} options Dictionary of configurations.\\n * @param {!value} value Value to display.\\n * @param {!output} output Output display accumulator.\\n */\\nfunction display_value(options, value, output) {\\n  if (value.type === \\'PROBABILITY\\') {\\n    const left_margin = 0;\\n    const right_margin = 50;\\n    const plot_width = options.node_x_size - options.node_padding * 2 -\\n        left_margin - right_margin;\\n\\n    let cusum = Array.from(d3.cumsum(value.distribution));\\n    cusum.unshift(0);\\n    const distribution_plot = output.content.append(\\'g\\').attr(\\n        \\'transform\\', `translate(0,${output.vertical_offset + 0.5})`);\\n\\n    distribution_plot.selectAll(\\'rect\\')\\n        .data(value.distribution)\\n        .join(\\'rect\\')\\n        .attr(\\'height\\', 10)\\n        .attr(\\n            \\'x\\',\\n            (d, i) =>\\n                (cusum[i] * plot_width + left_margin + options.node_padding))\\n        .attr(\\'width\\', (d, i) => d * plot_width)\\n        .style(\\'fill\\', (d, i) => d3.schemeSet1[i]);\\n\\n    const num_examples =\\n        output.content.append(\\'g\\')\\n            .attr(\\'transform\\', `translate(0,${output.vertical_offset})`)\\n            .append(\\'text\\')\\n            .attr(\\'x\\', options.node_x_size - options.node_padding)\\n            .attr(\\'alignment-baseline\\', \\'hanging\\')\\n            .attr(\\'text-anchor\\', \\'end\\')\\n            .text(`(${value.num_examples})`);\\n\\n    const distribution_details = d3.create(\\'ul\\');\\n    distribution_details.selectAll(\\'li\\')\\n        .data(value.distribution)\\n        .join(\\'li\\')\\n        .append(\\'span\\')\\n        .text(\\n            (d, i) =>\\n                \\'class \\' + i + \\': \\' + d3.format(\\'.3%\\')(value.distribution[i]));\\n\\n    add_tooltip(options, distribution_plot, () => distribution_details.html());\\n    add_tooltip(options, num_examples, () => \\'Number of examples\\');\\n\\n    output.vertical_offset += 10;\\n    return;\\n  }\\n\\n  if (value.type === \\'REGRESSION\\') {\\n    display_node_text(\\n        options,\\n        \\'value: \\' + d3.format(\\'r\\')(value.value) + ` (` +\\n            d3.format(\\'.6\\')(value.num_examples) + `)`,\\n        output);\\n    return;\\n  }\\n\\n  display_node_text(options, `Non supported value ${value.type}`, output);\\n}\\n\\n/**\\n * Adds an explanation inside of a node.\\n * @param {!options} options Dictionary of configurations.\\n * @param {!explanation} explanation Explanation to display.\\n * @param {!output} output Output display accumulator.\\n */\\nfunction display_explanation(options, explanation, output) {\\n  // Margin before the explanation.\\n  output.vertical_offset += 10;\\n\\n  display_node_text(\\n      options, `Non supported explanation ${explanation.type}`, output);\\n}\\n\\n\\n/**\\n * Draw the edges of the tree.\\n * @param {!options} options Dictionary of configurations.\\n * @param {!graph} graph D3 search handle containing the graph.\\n * @param {!tree_struct} tree_struct Structure of the tree (node placement,\\n *     data, etc.).\\n */\\nfunction display_edges(options, graph, tree_struct) {\\n  // Draw an edge between a parent and a child node with a bezier.\\n  function draw_single_edge(d) {\\n    return \\'M\\' + (d.source.y + options.node_x_size) + \\',\\' + d.source.x + \\' C\\' +\\n        (d.source.y + options.node_x_size + options.edge_rounding) + \\',\\' +\\n        d.source.x + \\' \\' + (d.target.y - options.edge_rounding) + \\',\\' +\\n        d.target.x + \\' \\' + d.target.y + \\',\\' + d.target.x;\\n  }\\n\\n  graph.append(\\'g\\')\\n      .attr(\\'fill\\', \\'none\\')\\n      .attr(\\'stroke-width\\', 1.2)\\n      .selectAll(\\'path\\')\\n      .data(tree_struct.links())\\n      .join(\\'path\\')\\n      .attr(\\'d\\', draw_single_edge)\\n      .attr(\\n          \\'stroke\\', d => (d.target === d.source.children[0]) ? \\'#0F0\\' : \\'#F00\\');\\n}\\n\\ndisplay_tree({\"margin\": 10, \"node_x_size\": 160, \"node_y_size\": 28, \"node_x_offset\": 180, \"node_y_offset\": 33, \"font_size\": 10, \"edge_rounding\": 20, \"node_padding\": 2, \"show_plot_bounding_box\": false}, {\"value\": {\"type\": \"PROBABILITY\", \"distribution\": [0.0975, 0.11146666666666667, 0.09828333333333333, 0.10225, 0.09906666666666666, 0.08831666666666667, 0.09986666666666667, 0.10556666666666667, 0.09753333333333333, 0.10015], \"num_examples\": 60000.0}, \"condition\": {\"type\": \"NUMERICAL_IS_HIGHER_THAN\", \"attribute\": \"data:0.428\", \"threshold\": 0.5}, \"children\": [{\"value\": {\"type\": \"PROBABILITY\", \"distribution\": [0.203020621550973, 0.0012447616281482097, 0.0890834405211402, 0.04701049748973072, 0.203228081822331, 0.07406331687481847, 0.15476536243309405, 0.034936309696693084, 0.04120160989170574, 0.1514459980913655], \"num_examples\": 24101.0}, \"condition\": {\"type\": \"NUMERICAL_IS_HIGHER_THAN\", \"attribute\": \"data:0.539\", \"threshold\": 4.5}, \"children\": [{\"value\": {\"type\": \"PROBABILITY\", \"distribution\": [0.4250871080139373, 0.0004099200655872105, 0.18887067021930723, 0.028591924574707932, 0.049702807952449274, 0.060053289608526336, 0.17360114777618366, 0.004099200655872105, 0.05615904898544784, 0.013424882147981144], \"num_examples\": 9758.0}, \"condition\": {\"type\": \"NUMERICAL_IS_HIGHER_THAN\", \"attribute\": \"data:0.407\", \"threshold\": 0.5}, \"children\": [{\"value\": {\"type\": \"PROBABILITY\", \"distribution\": [0.03509948580371115, 0.000447127207690588, 0.29979879275653926, 0.051643192488262914, 0.0706460988151129, 0.0892018779342723, 0.3129890453834116, 0.003129890453834116, 0.11602951039570758, 0.021014978761457633], \"num_examples\": 4473.0}, \"condition\": {\"type\": \"NUMERICAL_IS_HIGHER_THAN\", \"attribute\": \"data:0.652\", \"threshold\": 0.5}}, {\"value\": {\"type\": \"PROBABILITY\", \"distribution\": [0.7551561021759697, 0.0003784295175023652, 0.09498580889309366, 0.009082308420056764, 0.031977294228949855, 0.035383159886471144, 0.05562913907284768, 0.004919583727530747, 0.005487228003784295, 0.007000946073793756], \"num_examples\": 5285.0}, \"condition\": {\"type\": \"NUMERICAL_IS_HIGHER_THAN\", \"attribute\": \"data:0.656\", \"threshold\": 5.5}}]}, {\"value\": {\"type\": \"PROBABILITY\", \"distribution\": [0.051941713727950915, 0.0018127309488949314, 0.02119500801784843, 0.05954123962908736, 0.30767621836435893, 0.08359478491250087, 0.1419507773826954, 0.055915777731297495, 0.031025587394547863, 0.24534616189081782], \"num_examples\": 14343.0}, \"condition\": {\"type\": \"NUMERICAL_IS_HIGHER_THAN\", \"attribute\": \"data:0.127\", \"threshold\": 0.5}, \"children\": [{\"value\": {\"type\": \"PROBABILITY\", \"distribution\": [0.14542107685227795, 0.002300966405890474, 0.0704095720202485, 0.07501150483202945, 0.05844454670961804, 0.04141739530602853, 0.5660377358490566, 0.0, 0.03819604233778187, 0.0027611596870685687], \"num_examples\": 2173.0}, \"condition\": {\"type\": \"NUMERICAL_IS_HIGHER_THAN\", \"attribute\": \"data:0.628\", \"threshold\": 174.5}}, {\"value\": {\"type\": \"PROBABILITY\", \"distribution\": [0.0352506162695152, 0.001725554642563681, 0.012407559572719802, 0.05677896466721446, 0.352177485620378, 0.09112571898110107, 0.06622843056696795, 0.06589975349219392, 0.029745275267050123, 0.2886606409202958], \"num_examples\": 12170.0}, \"condition\": {\"type\": \"NUMERICAL_IS_HIGHER_THAN\", \"attribute\": \"data:0.213\", \"threshold\": 0.5}}]}]}, {\"value\": {\"type\": \"PROBABILITY\", \"distribution\": [0.026658124181732083, 0.1854647761776094, 0.10445973425443605, 0.13933535753085044, 0.029137301874704032, 0.09788573497869021, 0.06301011170227583, 0.15298476280676343, 0.1353519596646146, 0.06571213682832391], \"num_examples\": 35899.0}, \"condition\": {\"type\": \"NUMERICAL_IS_HIGHER_THAN\", \"attribute\": \"data:0.263\", \"threshold\": 0.5}, \"children\": [{\"value\": {\"type\": \"PROBABILITY\", \"distribution\": [0.03695617445018372, 0.021779647478566484, 0.07124980030885564, 0.07561637999893497, 0.03466638266148357, 0.13206241013898504, 0.06587145215400181, 0.2564566803344161, 0.19575057244794716, 0.10959050002662549], \"num_examples\": 18779.0}, \"condition\": {\"type\": \"NUMERICAL_IS_HIGHER_THAN\", \"attribute\": \"data:0.269\", \"threshold\": 1.5}, \"children\": [{\"value\": {\"type\": \"PROBABILITY\", \"distribution\": [0.037091503267973856, 0.00522875816993464, 0.07475490196078431, 0.0852124183006536, 0.0375, 0.07401960784313726, 0.002696078431372549, 0.3707516339869281, 0.18333333333333332, 0.12941176470588237], \"num_examples\": 12240.0}, \"condition\": {\"type\": \"NUMERICAL_IS_HIGHER_THAN\", \"attribute\": \"data:0.403\", \"threshold\": 0.5}}, {\"value\": {\"type\": \"PROBABILITY\", \"distribution\": [0.03670285976448998, 0.05276036091145435, 0.06468879033491359, 0.05765407554671968, 0.029362287811591985, 0.24070958862211347, 0.1841260131518581, 0.042514145893867566, 0.21899372992812358, 0.07248814803486772], \"num_examples\": 6539.0}, \"condition\": {\"type\": \"NUMERICAL_IS_HIGHER_THAN\", \"attribute\": \"data:0.516\", \"threshold\": 0.5}}]}, {\"value\": {\"type\": \"PROBABILITY\", \"distribution\": [0.01536214953271028, 0.36501168224299063, 0.14088785046728972, 0.20922897196261683, 0.023072429906542055, 0.060397196261682246, 0.05987149532710281, 0.03948598130841122, 0.06910046728971962, 0.01758177570093458], \"num_examples\": 17120.0}, \"condition\": {\"type\": \"NUMERICAL_IS_HIGHER_THAN\", \"attribute\": \"data:0.409\", \"threshold\": 0.5}, \"children\": [{\"value\": {\"type\": \"PROBABILITY\", \"distribution\": [0.006608194160759342, 0.09143337738796108, 0.1928391205094317, 0.3292082181905563, 0.04157154872041331, 0.05947374744683408, 0.08854980175417518, 0.06343866394328967, 0.09623933677760423, 0.03063799110897513], \"num_examples\": 8323.0}, \"condition\": {\"type\": \"NUMERICAL_IS_HIGHER_THAN\", \"attribute\": \"data:0.490\", \"threshold\": 0.5}}, {\"value\": {\"type\": \"PROBABILITY\", \"distribution\": [0.023644424235534842, 0.6238490394452655, 0.0917358190292145, 0.09571444810730931, 0.005570080709332727, 0.06127088780266, 0.032738433556894396, 0.016823917244515176, 0.04342389450949187, 0.005229055359781744], \"num_examples\": 8797.0}, \"condition\": {\"type\": \"NUMERICAL_IS_HIGHER_THAN\", \"attribute\": \"data:0.378\", \"threshold\": 146.5}}]}]}]}, \"#tree_plot_1b89b23212e2451ab66f044e1e8f453d\")\\n</script>\\n'"
      ]
     },
     "execution_count": 15,
     "metadata": {},
     "output_type": "execute_result"
    }
   ],
   "source": [
    "x = tfdf.model_plotter.plot_model_in_c"
   ]
  },
  {
   "cell_type": "code",
   "execution_count": null,
   "metadata": {},
   "outputs": [],
   "source": []
  },
  {
   "cell_type": "code",
   "execution_count": null,
   "metadata": {},
   "outputs": [],
   "source": []
  }
 ],
 "metadata": {
  "kernelspec": {
   "display_name": "Python 3 (ipykernel)",
   "language": "python",
   "name": "python3"
  },
  "language_info": {
   "codemirror_mode": {
    "name": "ipython",
    "version": 3
   },
   "file_extension": ".py",
   "mimetype": "text/x-python",
   "name": "python",
   "nbconvert_exporter": "python",
   "pygments_lexer": "ipython3",
   "version": "3.10.6"
  }
 },
 "nbformat": 4,
 "nbformat_minor": 2
}
