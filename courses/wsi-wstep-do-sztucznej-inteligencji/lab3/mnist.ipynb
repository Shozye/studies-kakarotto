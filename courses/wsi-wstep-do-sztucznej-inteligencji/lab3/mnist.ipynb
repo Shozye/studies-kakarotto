{
 "cells": [
  {
   "cell_type": "code",
   "execution_count": 1,
   "id": "211141ea",
   "metadata": {},
   "outputs": [
    {
     "name": "stderr",
     "output_type": "stream",
     "text": [
      "2023-05-31 12:21:03.975688: I tensorflow/tsl/cuda/cudart_stub.cc:28] Could not find cuda drivers on your machine, GPU will not be used.\n",
      "2023-05-31 12:21:04.009859: I tensorflow/tsl/cuda/cudart_stub.cc:28] Could not find cuda drivers on your machine, GPU will not be used.\n",
      "2023-05-31 12:21:04.010725: I tensorflow/core/platform/cpu_feature_guard.cc:182] This TensorFlow binary is optimized to use available CPU instructions in performance-critical operations.\n",
      "To enable the following instructions: AVX2 FMA, in other operations, rebuild TensorFlow with the appropriate compiler flags.\n",
      "2023-05-31 12:21:04.600434: W tensorflow/compiler/tf2tensorrt/utils/py_utils.cc:38] TF-TRT Warning: Could not find TensorRT\n"
     ]
    },
    {
     "name": "stdout",
     "output_type": "stream",
     "text": [
      "TensorFlow version: 2.12.0\n"
     ]
    }
   ],
   "source": [
    "import tensorflow as tf\n",
    "from PIL import Image, ImageOps\n",
    "from IPython.display import Image as displayimg\n",
    "from IPython.display import display\n",
    "import os\n",
    "\n",
    "import pathlib\n",
    "BATCH_SIZE = 32\n",
    "IMG_HEIGHT = 28\n",
    "IMG_WIDTH = 28\n",
    "\n",
    "mnist = tf.keras.datasets.mnist\n",
    "Sequential = tf.keras.models.Sequential\n",
    "layers = tf.keras.layers\n",
    "\n",
    "\n",
    "\n",
    "BATCH_SIZE = 32\n",
    "IMG_HEIGHT = 28\n",
    "IMG_WIDTH = 28\n",
    "DATASET_1_SRC= \"digits\"\n",
    "DATASET_1_INVERTED = \"inv_digits/\"\n",
    "DATASET_1_TARGET = \"dataset\"\n",
    "\n",
    "DATASET_THIN_SRC = \"thin_digits\"\n",
    "DATASET_THIN_TARGET = \"dataset_thin\"\n",
    "\n",
    "\n",
    "print(\"TensorFlow version:\", tf.__version__)\n"
   ]
  },
  {
   "cell_type": "code",
   "execution_count": 2,
   "id": "e398977f",
   "metadata": {},
   "outputs": [],
   "source": [
    "(x_train, y_train), (x_test, y_test) = mnist.load_data()\n",
    "x_train, x_test = x_train / 255.0, x_test / 255.0\n",
    "\n",
    "\n",
    "model = Sequential([\n",
    "  layers.Flatten(input_shape=(28, 28)),\n",
    "  layers.Dense(128, activation='relu'),\n",
    "  layers.Dense(128, activation='relu'),\n",
    "  layers.Dense(10, activation='softmax')\n",
    "])\n",
    "predictions = model(x_train[:1]).numpy()\n",
    "loss_fn = tf.keras.losses.SparseCategoricalCrossentropy()\n",
    "\n",
    "model.compile(optimizer='adam',\n",
    "              loss=loss_fn,\n",
    "              metrics=['accuracy'])"
   ]
  },
  {
   "cell_type": "code",
   "execution_count": 3,
   "id": "a5a26a01",
   "metadata": {},
   "outputs": [
    {
     "name": "stdout",
     "output_type": "stream",
     "text": [
      "Epoch 1/5\n",
      "1875/1875 [==============================] - 2s 874us/step - loss: 0.2316 - accuracy: 0.9313\n",
      "Epoch 2/5\n",
      "1875/1875 [==============================] - 2s 853us/step - loss: 0.0965 - accuracy: 0.9706\n",
      "Epoch 3/5\n",
      "1875/1875 [==============================] - 2s 844us/step - loss: 0.0694 - accuracy: 0.9778\n",
      "Epoch 4/5\n",
      "1875/1875 [==============================] - 2s 837us/step - loss: 0.0514 - accuracy: 0.9842\n",
      "Epoch 5/5\n",
      "1875/1875 [==============================] - 2s 825us/step - loss: 0.0410 - accuracy: 0.9871\n"
     ]
    },
    {
     "data": {
      "text/plain": [
       "<keras.callbacks.History at 0x7fca68716950>"
      ]
     },
     "execution_count": 3,
     "metadata": {},
     "output_type": "execute_result"
    }
   ],
   "source": [
    "model.fit(\n",
    "    x_train, y_train, \n",
    "    verbose=1,\n",
    "    epochs=5\n",
    "    )"
   ]
  },
  {
   "cell_type": "code",
   "execution_count": 4,
   "id": "b6cd5b83",
   "metadata": {},
   "outputs": [
    {
     "name": "stdout",
     "output_type": "stream",
     "text": [
      "313/313 - 0s - loss: 0.0767 - accuracy: 0.9764 - 240ms/epoch - 766us/step\n"
     ]
    }
   ],
   "source": [
    "loss, accuracy = model.evaluate(x_test,  y_test, verbose=2)"
   ]
  },
  {
   "cell_type": "code",
   "execution_count": 5,
   "id": "7d3dd4d9",
   "metadata": {},
   "outputs": [
    {
     "name": "stdout",
     "output_type": "stream",
     "text": [
      "Wyuczona sieć na zbiorze testowym posiada skuteczność 97.64 %\n"
     ]
    }
   ],
   "source": [
    "print(f\"Wyuczona sieć na zbiorze testowym posiada skuteczność {round(accuracy*100,2)} %\")"
   ]
  },
  {
   "cell_type": "code",
   "execution_count": 6,
   "id": "2eb269fa",
   "metadata": {},
   "outputs": [],
   "source": [
    "# Przygotowywanie moich danych:\n",
    "\n",
    "def make_classification_dataset(path: str):\n",
    "    os.makedirs(path, exist_ok=True)\n",
    "    for num in range(10):\n",
    "        os.makedirs(os.path.join(path, str(num)), exist_ok=True)\n",
    "        \n",
    "def add_padding(grayscale_image, amount=4, background_color=255):\n",
    "    width = grayscale_image.width\n",
    "    result = Image.new(img.mode, (width+2*amount, width+2*amount), (background_color))\n",
    "    result.paste(grayscale_image, (amount, amount))\n",
    "    return result\n",
    "    \n",
    "make_classification_dataset(DATASET_THIN_TARGET)\n",
    "\n",
    "for class_type in os.listdir(DATASET_THIN_SRC):\n",
    "    for image in os.listdir(os.path.join(DATASET_THIN_SRC, class_type)):\n",
    "        path = os.path.join(DATASET_THIN_SRC, class_type, image)\n",
    "        \n",
    "        img = Image.open(path).convert(\"L\") # open and convert to grayscale\n",
    "        img = ImageOps.scale(img, (20/img.width)) # scale to 20 px\n",
    "        img = add_padding(img) # add padding to 28x28\n",
    "        img = ImageOps.invert(img) # invert, because source images are white background and black in\n",
    "        \n",
    "        target_path = os.path.join(DATASET_THIN_TARGET, class_type, image)\n",
    "        img.save(target_path)\n"
   ]
  },
  {
   "cell_type": "code",
   "execution_count": 7,
   "id": "bc1e68a3",
   "metadata": {},
   "outputs": [
    {
     "name": "stdout",
     "output_type": "stream",
     "text": [
      "Found 101 files belonging to 10 classes.\n",
      "4/4 [==============================] - 0s 1ms/step - loss: 2.4482 - accuracy: 0.5149\n"
     ]
    },
    {
     "name": "stderr",
     "output_type": "stream",
     "text": [
      "2023-05-31 12:21:14.469845: I tensorflow/core/common_runtime/executor.cc:1197] [/device:CPU:0] (DEBUG INFO) Executor start aborting (this does not indicate an error and you can ignore this message): INVALID_ARGUMENT: You must feed a value for placeholder tensor 'Placeholder/_0' with dtype string and shape [101]\n",
      "\t [[{{node Placeholder/_0}}]]\n",
      "2023-05-31 12:21:14.470087: I tensorflow/core/common_runtime/executor.cc:1197] [/device:CPU:0] (DEBUG INFO) Executor start aborting (this does not indicate an error and you can ignore this message): INVALID_ARGUMENT: You must feed a value for placeholder tensor 'Placeholder/_4' with dtype int32 and shape [101]\n",
      "\t [[{{node Placeholder/_4}}]]\n"
     ]
    }
   ],
   "source": [
    "\n",
    "\n",
    "def process(image,label):\n",
    "    image = tf.cast(image/255. ,tf.float32)\n",
    "    return image,label\n",
    "\n",
    "def dataset_evaluate(target_path: str):\n",
    "  data_dir = pathlib.Path(target_path).with_suffix('')\n",
    "  train_ds = tf.keras.utils.image_dataset_from_directory(\n",
    "    data_dir,\n",
    "    seed=123,\n",
    "    image_size=(IMG_HEIGHT, IMG_WIDTH),\n",
    "    color_mode='grayscale')\n",
    "\n",
    "  ds = train_ds.map(process)\n",
    "  model.evaluate(ds)\n",
    "  \n",
    "dataset_evaluate(DATASET_THIN_TARGET)"
   ]
  },
  {
   "attachments": {},
   "cell_type": "markdown",
   "id": "979ed8e1",
   "metadata": {},
   "source": []
  },
  {
   "cell_type": "code",
   "execution_count": 8,
   "id": "8a90dc95",
   "metadata": {},
   "outputs": [
    {
     "data": {
      "image/png": "[encoded data removed]",
      "text/plain": [
       "<Figure size 640x480 with 1 Axes>"
      ]
     },
     "metadata": {},
     "output_type": "display_data"
    },
    {
     "name": "stdout",
     "output_type": "stream",
     "text": [
      "0:0.08%\n",
      "1:0.0%\n",
      "2:0.06%\n",
      "3:0.0%\n",
      "4:67.24%\n",
      "5:0.0%\n",
      "6:0.0%\n",
      "7:3.95%\n",
      "8:0.0%\n",
      "9:28.67%\n"
     ]
    },
    {
     "data": {
      "image/png": "[encoded data removed]",
      "text/plain": [
       "<Figure size 640x480 with 1 Axes>"
      ]
     },
     "metadata": {},
     "output_type": "display_data"
    },
    {
     "name": "stdout",
     "output_type": "stream",
     "text": [
      "0:0.0%\n",
      "1:4.71%\n",
      "2:0.15%\n",
      "3:0.27%\n",
      "4:28.71%\n",
      "5:0.15%\n",
      "6:0.0%\n",
      "7:4.04%\n",
      "8:48.74%\n",
      "9:13.22%\n"
     ]
    },
    {
     "data": {
      "image/png": "[encoded data removed]",
      "text/plain": [
       "<Figure size 640x480 with 1 Axes>"
      ]
     },
     "metadata": {},
     "output_type": "display_data"
    },
    {
     "name": "stdout",
     "output_type": "stream",
     "text": [
      "0:0.0%\n",
      "1:0.04%\n",
      "2:0.0%\n",
      "3:0.0%\n",
      "4:98.95%\n",
      "5:0.04%\n",
      "6:0.01%\n",
      "7:0.8%\n",
      "8:0.02%\n",
      "9:0.15%\n"
     ]
    }
   ],
   "source": [
    "import numpy as np\n",
    "from matplotlib import pyplot as plt\n",
    "import random\n",
    "\n",
    "def predict(path: str):\n",
    "    np_image = Image.open(path).convert(\"L\") # changing to grayscale\n",
    "    np_image = np.array(np_image).astype('float32')/255.0 # dividing by 255 as in other places\n",
    "    np_image = np.expand_dims(np_image, axis=0) # we do it to make it a list of images\n",
    "    prediction = model.predict(np_image, verbose=0) # \n",
    "    \n",
    "    plt.imshow(np_image[0], cmap='gray')\n",
    "    plt.show()\n",
    "    print(\"\\n\".join([ f\"{i}:{(round(float(n)*100, 2))}%\" for i, n in zip(range(10), prediction[0])]))\n",
    "\n",
    "def predict_dataset(target_path: str):\n",
    "    imgs = []\n",
    "    for class_type in os.listdir(target_path):\n",
    "        for image in os.listdir(os.path.join(target_path, class_type)):\n",
    "            imgs.append(os.path.join(target_path, class_type, image))\n",
    "            \n",
    "    random.shuffle(imgs)\n",
    "    for path in imgs[:3]:\n",
    "        predict(path)\n",
    "\n",
    "predict_dataset(DATASET_THIN_TARGET)\n",
    "        \n"
   ]
  },
  {
   "cell_type": "code",
   "execution_count": null,
   "id": "a6df1fb6",
   "metadata": {},
   "outputs": [],
   "source": []
  }
 ],
 "metadata": {
  "kernelspec": {
   "display_name": "Python 3 (ipykernel)",
   "language": "python",
   "name": "python3"
  },
  "language_info": {
   "codemirror_mode": {
    "name": "ipython",
    "version": 3
   },
   "file_extension": ".py",
   "mimetype": "text/x-python",
   "name": "python",
   "nbconvert_exporter": "python",
   "pygments_lexer": "ipython3",
   "version": "3.10.6"
  }
 },
 "nbformat": 4,
 "nbformat_minor": 5
}
