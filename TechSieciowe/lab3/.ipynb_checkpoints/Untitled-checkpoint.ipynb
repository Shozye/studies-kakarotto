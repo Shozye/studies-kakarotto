{
 "cells": [
  {
   "cell_type": "markdown",
   "id": "fae364ae",
   "metadata": {},
   "source": [
    "### Lista nr 3 - Ramkowanie (terminy wysyłania sprawozdań: 10 V (grupa środowa); 26 IV 4 V (grupy czwartkowe))\n",
    "1. Napisz program ramkujący zgodnie z zasadą \"rozpychania bitów\" (podaną na wykładzie), oraz weryfikujący poprawność ramki metodą CRC. Program ma odczytywać pewien źródłowy plik tekstowy 'Z' zawierający dowolny ciąg złożony ze znaków '0' i '1' (symulujący strumień bitów) i zapisywać ramkami odpowiednio sformatowany ciąg do inngo pliku tekstowego 'W'. Program powinien obliczać i wstawiać do ramki pola kontrolne CRC formatowane za pomocą ciągów złożonych ze znaków '0' i '1'. Napisz program, realizujacy procedurę odwrotną, tzn. który odzczytuje plik wynikowy 'W' i dla poprawnych danych CRC przepisuje jego zawartość tak, aby otrzymać kopię oryginalnego pliku źródłowego 'Z'.  \n",
    "2. Napisz program (grupę programów) do symulowania ethernetowej metody dostępu do medium transmisyjnego (CSMA/CD). Wspólne łącze realizowane jest za pomocą tablicy: propagacja sygnału symulowana jest za pomoca propagacji wartości do sąsiednich komórek. Zrealizuj ćwiczenie tak, aby symulacje można było w łatwy sposób testować i aby otrzymane wyniki były łatwe w interpretacji."
   ]
  },
  {
   "cell_type": "markdown",
   "id": "901dfb15",
   "metadata": {},
   "source": []
  },
  {
   "cell_type": "markdown",
   "id": "56f0a52a",
   "metadata": {},
   "source": [
    "Założenia:\n",
    "1. Będziemy wczytywac po 32 bity z pliku\n",
    "2. Generator G = 1001\n",
    "3. Flaga = 01111110\n",
    "\n",
    "Kodowanie polega na:\n",
    "1. Wczytuj po 32 bity z pliku. Ostatni buffer moze miec mniej\n",
    "2. Oblicz CRC i dostaw na koniec ciągu\n",
    "3. Pozbywamy sie fałszywych flag z ciągu za pomocą dostawienia zera po kazdej sekwencji pięciu jedynek\n",
    "4. Dodajemy flagi na poczatku i na koncu\n",
    "5. Wpisujemy dane do pliku\n",
    "\n",
    "Dekodowanie polega na\n",
    "1. Odczytanie kodu tak by znaleźć dwie flagi i wyodrębnienie fragmentu pomiędzy nimi\n",
    "2. Usuwamy zera po sekwencji pięciu jedynek\n",
    "3. Dzielimy ciąg przez G. Jeżeli otrzymamy reszte, ramka uległa uszkodzeniu i jest odrucana\n",
    "4. Jeśli ramka jest poprawna to usuwamy kod CRC z końca\n",
    "5. Zapisujemy rezultat\n"
   ]
  },
  {
   "cell_type": "code",
   "execution_count": 2,
   "id": "f1986b3c",
   "metadata": {},
   "outputs": [],
   "source": [
    "# Imports\n",
    "import numpy as np"
   ]
  },
  {
   "cell_type": "code",
   "execution_count": 188,
   "id": "951da24d",
   "metadata": {},
   "outputs": [],
   "source": [
    "# Potrzebne funkcje\n",
    "def divide_polynomial_with_remainder(X: str, G: str):\n",
    "    R = X[:len(G)]\n",
    "    ptr = len(G)-1\n",
    "    while ptr != len(X):\n",
    "        # Odejmij R od G mod 2\n",
    "        if R[0] == '1':\n",
    "            newR = \"\"\n",
    "            for i in range(len(R)):\n",
    "                letR = R[i]\n",
    "                letG = G[i]\n",
    "                if letR == letG:\n",
    "                    newR += \"0\"\n",
    "                else:\n",
    "                    newR += \"1\"\n",
    "            R = newR\n",
    "        R = R[1:]\n",
    "        ptr += 1\n",
    "        if ptr == len(X):\n",
    "            break\n",
    "        # dodaj kolejny element do reszty\n",
    "        R = R + X[ptr]\n",
    "    return R\n",
    "\n",
    "def CRC(X: str):\n",
    "    G = \"1001\"\n",
    "    r = len(G) - 1\n",
    "    X = X + \"0\"*r\n",
    "    return divide_polynomial_with_remainder(X, G)"
   ]
  },
  {
   "cell_type": "markdown",
   "id": "8313e78b",
   "metadata": {},
   "source": [
    "Możemy przypuszczac że nasze dzielenie wielomianu dla CRC dziala, ponieważ, jak wezme przyklad dzielenia przez G, i dodam reszte do X, to wtedy X dzieli G"
   ]
  },
  {
   "cell_type": "code",
   "execution_count": 243,
   "id": "def170c0",
   "metadata": {},
   "outputs": [
    {
     "name": "stdout",
     "output_type": "stream",
     "text": [
      "011\n"
     ]
    },
    {
     "data": {
      "text/plain": [
       "'000'"
      ]
     },
     "execution_count": 243,
     "metadata": {},
     "output_type": "execute_result"
    }
   ],
   "source": [
    "X = \"101110000\"\n",
    "G = \"1001\"\n",
    "R = divide_polynomial_with_remainder(X, G)\n",
    "print(R)\n",
    "divide_polynomial_with_remainder(X[:-3] + R, G)"
   ]
  },
  {
   "cell_type": "code",
   "execution_count": 255,
   "id": "8889a2a6",
   "metadata": {},
   "outputs": [],
   "source": [
    "def encodeFrame(X: str):\n",
    "    flag = \"01111110\"\n",
    "    crc = CRC(X)\n",
    "    X = X + crc\n",
    "    newX = \"\"\n",
    "    amount1 = 0\n",
    "    for i in range(len(X)):\n",
    "        newX += X[i]\n",
    "        if X[i] == \"1\":\n",
    "            amount1 += 1\n",
    "        else:\n",
    "            amount1 = 0\n",
    "        if amount1 == 5:\n",
    "            newX += \"0\"\n",
    "            amount1 = 0\n",
    "    X = newX\n",
    "    return flag+X+flag\n",
    "\n",
    "def encode(text: str):\n",
    "    frames = [text[i: i+32] for i in range(0, len(text), 32)]\n",
    "    encoded_frames = [encodeFrame(x) for x in frames]\n",
    "    return \"\".join(encoded_frames)\n"
   ]
  },
  {
   "cell_type": "code",
   "execution_count": 271,
   "id": "41705fab",
   "metadata": {},
   "outputs": [],
   "source": [
    "def decodeFrame(encodedX: str):\n",
    "    newEncodedX = \"\"\n",
    "    G = \"1001\"\n",
    "    amount1 = 0 \n",
    "    for letter in encodedX:\n",
    "        if amount1==5:\n",
    "            amount1 = 0\n",
    "            pass\n",
    "        else:\n",
    "            newEncodedX += letter\n",
    "            if letter == \"1\":\n",
    "                amount1+=1\n",
    "            else:\n",
    "                amount1 = 0\n",
    "    rest = divide_polynomial_with_remainder(newEncodedX, G)\n",
    "    if rest == \"000\":\n",
    "        return newEncodedX[:-3]\n",
    "    else:\n",
    "        return False\n",
    "    \n",
    "    \n",
    "def decode(text: str):\n",
    "    flag = \"01111110\"\n",
    "    frames = text.split(flag)\n",
    "    new_frames = []\n",
    "    for frame in frames:\n",
    "        if frame != \"\":\n",
    "            new_frames.append(frame)\n",
    "    frames=new_frames\n",
    "            \n",
    "    decodedframes = \"\"\n",
    "    for frame in frames:\n",
    "        decoded = decodeFrame(frame)\n",
    "        if decoded == False:\n",
    "            print(f\"Frame with {frame} is corrupted\")\n",
    "        else:\n",
    "            decodedframes += decoded\n",
    "    return decodedframes"
   ]
  },
  {
   "cell_type": "markdown",
   "id": "caf57def",
   "metadata": {},
   "source": [
    "Przetestujmy kodowanie i dekodowanie"
   ]
  },
  {
   "cell_type": "code",
   "execution_count": 285,
   "id": "50e04aa0",
   "metadata": {},
   "outputs": [
    {
     "name": "stdout",
     "output_type": "stream",
     "text": [
      "start 10111000111111100000000000001\n",
      "encoded 0111111010111000111110110000000000000100001111110\n",
      "decoded 10111000111111100000000000001\n"
     ]
    }
   ],
   "source": [
    "start = \"10111000111111100000000000001\"\n",
    "print(\"start\", start)\n",
    "encoded = encode(start)\n",
    "print(\"encoded\", encoded)\n",
    "decoded = decode(encoded)\n",
    "print(\"decod\", decoded)"
   ]
  },
  {
   "cell_type": "code",
   "execution_count": null,
   "id": "933c5505",
   "metadata": {},
   "outputs": [],
   "source": []
  },
  {
   "cell_type": "markdown",
   "id": "4b059d15",
   "metadata": {},
   "source": [
    "A dla przykladu ciezszego"
   ]
  },
  {
   "cell_type": "code",
   "execution_count": 274,
   "id": "e273c6f1",
   "metadata": {},
   "outputs": [
    {
     "name": "stdout",
     "output_type": "stream",
     "text": [
      "start 01111110\n",
      "encoded 0111111001111101000001111110\n",
      "decoded 01111110\n"
     ]
    }
   ],
   "source": [
    "start = \"01111110\"\n",
    "print(\"start\", start)\n",
    "encoded = encode(start)\n",
    "print(\"encoded\", encoded)\n",
    "decoded = decode(encoded)\n",
    "print(\"decoded\", decoded)"
   ]
  },
  {
   "cell_type": "code",
   "execution_count": 275,
   "id": "a5470427",
   "metadata": {},
   "outputs": [],
   "source": [
    "def test_decoding_on_files(filename: str):\n",
    "    with open(filename) as file:\n",
    "        text = file.read()\n",
    "    assert text == decode(encode(text))\n",
    "    \n",
    "def encode_file(filename: str):\n",
    "    with open(filename) as file:\n",
    "        text = file.read()\n",
    "    with open(\"encoded_\"+filename, 'w+') as file:\n",
    "        file.write(encode(text))"
   ]
  },
  {
   "cell_type": "code",
   "execution_count": 276,
   "id": "adc44047",
   "metadata": {},
   "outputs": [],
   "source": [
    "rand1 = [str(int(x)) for x in np.random.randint(0, 2, (100))]\n",
    "with open(\"Z\", 'w+') as file:\n",
    "    file.write(\"\".join(rand1))"
   ]
  },
  {
   "cell_type": "code",
   "execution_count": 277,
   "id": "af3d96c2",
   "metadata": {},
   "outputs": [
    {
     "name": "stdout",
     "output_type": "stream",
     "text": [
      "Z1: 0100000111110100110011111000111111101111110111101001011110000111110011101101001010110100010011110000\n"
     ]
    }
   ],
   "source": [
    "with open(\"Z\", 'r') as file:\n",
    "    print(f\"Z1: {file.read()}\")"
   ]
  },
  {
   "cell_type": "code",
   "execution_count": 278,
   "id": "e0201ae9",
   "metadata": {},
   "outputs": [],
   "source": [
    "test_decoding_on_files(\"Z\")"
   ]
  },
  {
   "cell_type": "code",
   "execution_count": 279,
   "id": "f166b046",
   "metadata": {},
   "outputs": [
    {
     "name": "stdout",
     "output_type": "stream",
     "text": [
      "Z 0100000111110100110011111000111111101111110111101001011110000111110011101101001010110100010011110000\n",
      "Encoded_Z 0111111001000001111100100110011111000011110000111111001111110111011111010111101001011110000111110001111110011111101100111011010010101101000100111110010111111001111110000000001111110\n"
     ]
    }
   ],
   "source": [
    "with open(\"Z\") as file:\n",
    "    z = file.read()\n",
    "    print(\"Z\", z)\n",
    "\n",
    "encode_file(\"Z\")\n",
    "with open(\"encoded_Z\") as file:\n",
    "    encoded = file.read()\n",
    "    print(\"Encoded_Z\", encoded)\n",
    "\n",
    "decoded = decode(encoded)\n",
    "assert decoded == z\n",
    "    \n"
   ]
  },
  {
   "cell_type": "markdown",
   "id": "c9d0cec8",
   "metadata": {},
   "source": [
    "Załóżmy teraz że psujemy zdekodowany plik. Zobaczmy co nam wychodzi"
   ]
  },
  {
   "cell_type": "code",
   "execution_count": 284,
   "id": "c6c53c6f",
   "metadata": {},
   "outputs": [
    {
     "name": "stdout",
     "output_type": "stream",
     "text": [
      "Z 0100000111110100110011111000111111101111110111101001011110000111110011101101001010110100010011110000\n",
      "Encoded_Z 0111111001000001111100100110011111000011111000111111001111110111011111010111101001011110000111110001111110011111101100111011010010101101000100111110010111111001111110000000001111110\n",
      "======= 61\n",
      "0111111001000001111100100110011111000011110000111111001111110011011111010111101001011110000111110001111110011111101100111011010010101101000100111110010111111001111110000000001111110\n",
      "0111111001000001111100100110011111000011110000111111001111110111011111010111101001011110000111110001111110011111101100111011010010101101000100111110010111111001111110000000001111110\n",
      "======\n",
      "Frame with 0110111110101111010010111100001111100 is corrupted\n"
     ]
    },
    {
     "ename": "AssertionError",
     "evalue": "01000001111101001100111110001111110011101101001010110100010011110000",
     "output_type": "error",
     "traceback": [
      "\u001b[0;31m---------------------------------------------------------------------------\u001b[0m",
      "\u001b[0;31mAssertionError\u001b[0m                            Traceback (most recent call last)",
      "\u001b[0;32m/tmp/ipykernel_283714/3553797198.py\u001b[0m in \u001b[0;36m<module>\u001b[0;34m\u001b[0m\n\u001b[1;32m     21\u001b[0m \u001b[0;34m\u001b[0m\u001b[0m\n\u001b[1;32m     22\u001b[0m \u001b[0mdecoded\u001b[0m \u001b[0;34m=\u001b[0m \u001b[0mdecode\u001b[0m\u001b[0;34m(\u001b[0m\u001b[0mencoded\u001b[0m\u001b[0;34m)\u001b[0m\u001b[0;34m\u001b[0m\u001b[0;34m\u001b[0m\u001b[0m\n\u001b[0;32m---> 23\u001b[0;31m \u001b[0;32massert\u001b[0m \u001b[0mdecoded\u001b[0m \u001b[0;34m==\u001b[0m \u001b[0mz\u001b[0m\u001b[0;34m,\u001b[0m \u001b[0mdecoded\u001b[0m\u001b[0;34m\u001b[0m\u001b[0;34m\u001b[0m\u001b[0m\n\u001b[0m",
      "\u001b[0;31mAssertionError\u001b[0m: 01000001111101001100111110001111110011101101001010110100010011110000"
     ]
    }
   ],
   "source": [
    "with open(\"Z\") as file:\n",
    "    z = file.read()\n",
    "    print(\"Z\", z)\n",
    "\n",
    "encode_file(\"Z\")\n",
    "with open(\"encoded_Z\") as file:\n",
    "    old_encoded = file.read()\n",
    "    print(\"Encoded_Z\", encoded)\n",
    "\n",
    "randomowy_bit_do_zmiany = np.random.randint(0, len(encoded))\n",
    "encoded = list(old_encoded)\n",
    "if encoded[randomowy_bit_do_zmiany] == \"1\":\n",
    "    encoded[randomowy_bit_do_zmiany] = \"0\"\n",
    "else:\n",
    "    encoded[randomowy_bit_do_zmiany] = \"1\"\n",
    "encoded = \"\".join(encoded)\n",
    "print(\"=======\", randomowy_bit_do_zmiany)\n",
    "print(encoded)\n",
    "print(old_encoded)\n",
    "print(\"======\")\n",
    "    \n",
    "decoded = decode(encoded)\n",
    "assert decoded == z, decoded"
   ]
  },
  {
   "cell_type": "markdown",
   "id": "865d3441",
   "metadata": {},
   "source": [
    "2. Napisz program (grupę programów) do symulowania ethernetowej metody dostępu do medium transmisyjnego (CSMA/CD). Wspólne łącze realizowane jest za pomocą tablicy: propagacja sygnału symulowana jest za pomoca propagacji wartości do sąsiednich komórek. Zrealizuj ćwiczenie tak, aby symulacje można było w łatwy sposób testować i aby otrzymane wyniki były łatwe w interpretacji."
   ]
  },
  {
   "cell_type": "code",
   "execution_count": null,
   "id": "be7edefd",
   "metadata": {},
   "outputs": [],
   "source": []
  },
  {
   "cell_type": "code",
   "execution_count": null,
   "id": "f27da8b2",
   "metadata": {},
   "outputs": [],
   "source": []
  }
 ],
 "metadata": {
  "kernelspec": {
   "display_name": "Python 3 (ipykernel)",
   "language": "python",
   "name": "python3"
  },
  "language_info": {
   "codemirror_mode": {
    "name": "ipython",
    "version": 3
   },
   "file_extension": ".py",
   "mimetype": "text/x-python",
   "name": "python",
   "nbconvert_exporter": "python",
   "pygments_lexer": "ipython3",
   "version": "3.10.4"
  }
 },
 "nbformat": 4,
 "nbformat_minor": 5
}
